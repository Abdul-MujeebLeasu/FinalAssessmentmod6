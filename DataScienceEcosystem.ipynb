{
 "cells": [
  {
   "cell_type": "markdown",
   "id": "16460235-2dd8-4f7e-9445-21c6b47fb53d",
   "metadata": {
    "editable": true,
    "slideshow": {
     "slide_type": ""
    },
    "tags": []
   },
   "source": [
    "# Data Science Tools and Ecosystem"
   ]
  },
  {
   "cell_type": "markdown",
   "id": "75df7d9b-02c6-4222-b299-90f6d135f1a9",
   "metadata": {},
   "source": [
    "## In this notebook, Data Science Tools and Ecosystem are summarized"
   ]
  },
  {
   "cell_type": "markdown",
   "id": "0f2423c4-d6bf-4b6d-af4d-248f6dc5fb3a",
   "metadata": {},
   "source": [
    "## Author"
   ]
  },
  {
   "cell_type": "markdown",
   "id": "b4dd64bd-451b-4266-adb5-5447f7bb596e",
   "metadata": {},
   "source": [
    "Abdulmujeeb Olohuntobi Leasu"
   ]
  },
  {
   "cell_type": "markdown",
   "id": "1f45901b-f6bd-4ca4-a9b9-143f26d1dd76",
   "metadata": {},
   "source": [
    "#### **Objectives:**\n",
    "*  Popular Programming Languages Data Science\n",
    "*  Common Libraries Used For Data Science\n",
    "*  Examples Of Arithmetic Expressions"
   ]
  },
  {
   "cell_type": "markdown",
   "id": "4e36384d-4920-45c6-9ef6-50d2cf62fd47",
   "metadata": {},
   "source": [
    "Some of the popular languages that Data Scientists use are:"
   ]
  },
  {
   "cell_type": "markdown",
   "id": "64a7c92a-491d-4eb7-9666-178362975912",
   "metadata": {},
   "source": [
    "1. R\n",
    "2. Python\n",
    "3. SQL"
   ]
  },
  {
   "cell_type": "markdown",
   "id": "3c0050fb-9ce6-4271-8451-9adbfb372a08",
   "metadata": {},
   "source": [
    "Some of the commonly used libraries used by Data Scientists include:"
   ]
  },
  {
   "cell_type": "markdown",
   "id": "da99dc3c-7b55-4692-a570-9da322c8dd15",
   "metadata": {},
   "source": [
    "1. Matplotlib\n",
    "2. Pandas\n",
    "3. Seaborn"
   ]
  },
  {
   "cell_type": "markdown",
   "id": "4b88447e-f644-4f27-b95e-a1b88e6e88a2",
   "metadata": {},
   "source": [
    "| Data Science Tools |\n",
    "| --- |\n",
    "| Apache Spark |\n",
    "| Tableau |\n",
    "| MATLAB |"
   ]
  },
  {
   "cell_type": "markdown",
   "id": "cb82277e-f316-4801-a11b-d6e95267ef83",
   "metadata": {},
   "source": [
    "### Below are a few examples of evaluating arithmetic expressions in Python"
   ]
  },
  {
   "cell_type": "code",
   "execution_count": 21,
   "id": "f2ce9832-0c3f-4cd1-9bb0-727e46a22d96",
   "metadata": {},
   "outputs": [
    {
     "data": {
      "text/plain": [
       "17"
      ]
     },
     "execution_count": 21,
     "metadata": {},
     "output_type": "execute_result"
    }
   ],
   "source": [
    "(3*4) + 5 # This a simple arithmetic expression to mutiply then add integers"
   ]
  },
  {
   "cell_type": "code",
   "execution_count": 27,
   "id": "8e648461-df27-41e3-8903-61421a1262dd",
   "metadata": {},
   "outputs": [
    {
     "name": "stdout",
     "output_type": "stream",
     "text": [
      "3.3333333333333335 Hours\n"
     ]
    }
   ],
   "source": [
    "print(200/60,'Hours') # This will convert 200 minutes to hours by diving by 60."
   ]
  },
  {
   "cell_type": "code",
   "execution_count": null,
   "id": "2108b1e3-0250-421b-8ab7-17bafd78707e",
   "metadata": {},
   "outputs": [],
   "source": []
  }
 ],
 "metadata": {
  "kernelspec": {
   "display_name": "Python 3 (ipykernel)",
   "language": "python",
   "name": "python3"
  },
  "language_info": {
   "codemirror_mode": {
    "name": "ipython",
    "version": 3
   },
   "file_extension": ".py",
   "mimetype": "text/x-python",
   "name": "python",
   "nbconvert_exporter": "python",
   "pygments_lexer": "ipython3",
   "version": "3.11.5"
  }
 },
 "nbformat": 4,
 "nbformat_minor": 5
}
